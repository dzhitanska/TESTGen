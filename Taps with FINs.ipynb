{
 "cells": [
  {
   "cell_type": "code",
   "execution_count": 21,
   "metadata": {},
   "outputs": [],
   "source": [
    "import pandas as pd\n",
    "import numpy as np\n",
    "#import cufflinks as cf\n",
    "import plotly.offline\n",
    "#cf.go_offline()\n",
    "#cf.set_config_file(offline=False, world_readable=True)\n",
    "from sklearn import preprocessing\n",
    "import matplotlib.pyplot as plt\n",
    "%matplotlib inline"
   ]
  },
  {
   "cell_type": "markdown",
   "metadata": {},
   "source": [
    "### Загрузка данных\n"
   ]
  },
  {
   "cell_type": "code",
   "execution_count": 13,
   "metadata": {
    "scrolled": true
   },
   "outputs": [
    {
     "data": {
      "text/html": [
       "<div>\n",
       "<style scoped>\n",
       "    .dataframe tbody tr th:only-of-type {\n",
       "        vertical-align: middle;\n",
       "    }\n",
       "\n",
       "    .dataframe tbody tr th {\n",
       "        vertical-align: top;\n",
       "    }\n",
       "\n",
       "    .dataframe thead th {\n",
       "        text-align: right;\n",
       "    }\n",
       "</style>\n",
       "<table border=\"1\" class=\"dataframe\">\n",
       "  <thead>\n",
       "    <tr style=\"text-align: right;\">\n",
       "      <th></th>\n",
       "      <th>datetime</th>\n",
       "      <th>price</th>\n",
       "      <th>volume</th>\n",
       "      <th>sumVolume</th>\n",
       "      <th>bid</th>\n",
       "      <th>ask</th>\n",
       "      <th>tickId</th>\n",
       "      <th>basis</th>\n",
       "      <th>tradeMarketCenter</th>\n",
       "      <th>TradeConditions</th>\n",
       "      <th>TradeAggressor</th>\n",
       "      <th>ecn</th>\n",
       "      <th>Unnamed: 12</th>\n",
       "    </tr>\n",
       "  </thead>\n",
       "  <tbody>\n",
       "    <tr>\n",
       "      <th>0</th>\n",
       "      <td>2020-03-16 04:00:00.017723</td>\n",
       "      <td>253.20</td>\n",
       "      <td>2771</td>\n",
       "      <td>2771</td>\n",
       "      <td>252.41</td>\n",
       "      <td>253.2</td>\n",
       "      <td>808464454</td>\n",
       "      <td>E</td>\n",
       "      <td>11</td>\n",
       "      <td>1747</td>\n",
       "      <td>0</td>\n",
       "      <td>16</td>\n",
       "      <td>NaN</td>\n",
       "    </tr>\n",
       "    <tr>\n",
       "      <th>1</th>\n",
       "      <td>2020-03-16 04:00:00.021236</td>\n",
       "      <td>262.75</td>\n",
       "      <td>300</td>\n",
       "      <td>3071</td>\n",
       "      <td>252.41</td>\n",
       "      <td>253.2</td>\n",
       "      <td>808731993</td>\n",
       "      <td>E</td>\n",
       "      <td>5</td>\n",
       "      <td>173D</td>\n",
       "      <td>0</td>\n",
       "      <td>16</td>\n",
       "      <td>NaN</td>\n",
       "    </tr>\n",
       "    <tr>\n",
       "      <th>2</th>\n",
       "      <td>2020-03-16 04:00:00.022473</td>\n",
       "      <td>253.20</td>\n",
       "      <td>600</td>\n",
       "      <td>3671</td>\n",
       "      <td>252.41</td>\n",
       "      <td>253.2</td>\n",
       "      <td>808464455</td>\n",
       "      <td>E</td>\n",
       "      <td>11</td>\n",
       "      <td>173D</td>\n",
       "      <td>0</td>\n",
       "      <td>16</td>\n",
       "      <td>NaN</td>\n",
       "    </tr>\n",
       "    <tr>\n",
       "      <th>3</th>\n",
       "      <td>2020-03-16 04:00:00.023496</td>\n",
       "      <td>258.84</td>\n",
       "      <td>300</td>\n",
       "      <td>3971</td>\n",
       "      <td>252.41</td>\n",
       "      <td>253.2</td>\n",
       "      <td>808731994</td>\n",
       "      <td>E</td>\n",
       "      <td>5</td>\n",
       "      <td>173D</td>\n",
       "      <td>0</td>\n",
       "      <td>16</td>\n",
       "      <td>NaN</td>\n",
       "    </tr>\n",
       "    <tr>\n",
       "      <th>4</th>\n",
       "      <td>2020-03-16 04:00:00.690195</td>\n",
       "      <td>253.20</td>\n",
       "      <td>10</td>\n",
       "      <td>3981</td>\n",
       "      <td>252.41</td>\n",
       "      <td>253.2</td>\n",
       "      <td>808732012</td>\n",
       "      <td>O</td>\n",
       "      <td>5</td>\n",
       "      <td>873D17</td>\n",
       "      <td>0</td>\n",
       "      <td>16</td>\n",
       "      <td>NaN</td>\n",
       "    </tr>\n",
       "  </tbody>\n",
       "</table>\n",
       "</div>"
      ],
      "text/plain": [
       "                     datetime   price  volume  sumVolume     bid    ask  \\\n",
       "0  2020-03-16 04:00:00.017723  253.20    2771       2771  252.41  253.2   \n",
       "1  2020-03-16 04:00:00.021236  262.75     300       3071  252.41  253.2   \n",
       "2  2020-03-16 04:00:00.022473  253.20     600       3671  252.41  253.2   \n",
       "3  2020-03-16 04:00:00.023496  258.84     300       3971  252.41  253.2   \n",
       "4  2020-03-16 04:00:00.690195  253.20      10       3981  252.41  253.2   \n",
       "\n",
       "      tickId basis  tradeMarketCenter TradeConditions  TradeAggressor  ecn  \\\n",
       "0  808464454     E                 11            1747               0   16   \n",
       "1  808731993     E                  5            173D               0   16   \n",
       "2  808464455     E                 11            173D               0   16   \n",
       "3  808731994     E                  5            173D               0   16   \n",
       "4  808732012     O                  5          873D17               0   16   \n",
       "\n",
       "   Unnamed: 12  \n",
       "0          NaN  \n",
       "1          NaN  \n",
       "2          NaN  \n",
       "3          NaN  \n",
       "4          NaN  "
      ]
     },
     "execution_count": 13,
     "metadata": {},
     "output_type": "execute_result"
    }
   ],
   "source": [
    "taps = pd.read_csv('data.csv', delimiter = ',')\n",
    "taps.head()"
   ]
  },
  {
   "cell_type": "code",
   "execution_count": 36,
   "metadata": {},
   "outputs": [],
   "source": [
    "taps['hour'] = pd.DatetimeIndex(taps['datetime']).hour"
   ]
  },
  {
   "cell_type": "code",
   "execution_count": 37,
   "metadata": {
    "scrolled": true
   },
   "outputs": [
    {
     "data": {
      "text/html": [
       "<div>\n",
       "<style scoped>\n",
       "    .dataframe tbody tr th:only-of-type {\n",
       "        vertical-align: middle;\n",
       "    }\n",
       "\n",
       "    .dataframe tbody tr th {\n",
       "        vertical-align: top;\n",
       "    }\n",
       "\n",
       "    .dataframe thead th {\n",
       "        text-align: right;\n",
       "    }\n",
       "</style>\n",
       "<table border=\"1\" class=\"dataframe\">\n",
       "  <thead>\n",
       "    <tr style=\"text-align: right;\">\n",
       "      <th></th>\n",
       "      <th>datetime</th>\n",
       "      <th>price</th>\n",
       "      <th>volume</th>\n",
       "      <th>sumVolume</th>\n",
       "      <th>bid</th>\n",
       "      <th>ask</th>\n",
       "      <th>tickId</th>\n",
       "      <th>basis</th>\n",
       "      <th>tradeMarketCenter</th>\n",
       "      <th>TradeConditions</th>\n",
       "      <th>TradeAggressor</th>\n",
       "      <th>ecn</th>\n",
       "      <th>Unnamed: 12</th>\n",
       "      <th>hour</th>\n",
       "      <th>minute</th>\n",
       "      <th>time</th>\n",
       "    </tr>\n",
       "  </thead>\n",
       "  <tbody>\n",
       "    <tr>\n",
       "      <th>0</th>\n",
       "      <td>2020-03-16 04:00:00.017723</td>\n",
       "      <td>253.20</td>\n",
       "      <td>2771</td>\n",
       "      <td>2771</td>\n",
       "      <td>252.41</td>\n",
       "      <td>253.2</td>\n",
       "      <td>808464454</td>\n",
       "      <td>E</td>\n",
       "      <td>11</td>\n",
       "      <td>1747</td>\n",
       "      <td>0</td>\n",
       "      <td>16</td>\n",
       "      <td>NaN</td>\n",
       "      <td>4</td>\n",
       "      <td>0</td>\n",
       "      <td>04:00:00.017723</td>\n",
       "    </tr>\n",
       "    <tr>\n",
       "      <th>1</th>\n",
       "      <td>2020-03-16 04:00:00.021236</td>\n",
       "      <td>262.75</td>\n",
       "      <td>300</td>\n",
       "      <td>3071</td>\n",
       "      <td>252.41</td>\n",
       "      <td>253.2</td>\n",
       "      <td>808731993</td>\n",
       "      <td>E</td>\n",
       "      <td>5</td>\n",
       "      <td>173D</td>\n",
       "      <td>0</td>\n",
       "      <td>16</td>\n",
       "      <td>NaN</td>\n",
       "      <td>4</td>\n",
       "      <td>0</td>\n",
       "      <td>04:00:00.021236</td>\n",
       "    </tr>\n",
       "    <tr>\n",
       "      <th>2</th>\n",
       "      <td>2020-03-16 04:00:00.022473</td>\n",
       "      <td>253.20</td>\n",
       "      <td>600</td>\n",
       "      <td>3671</td>\n",
       "      <td>252.41</td>\n",
       "      <td>253.2</td>\n",
       "      <td>808464455</td>\n",
       "      <td>E</td>\n",
       "      <td>11</td>\n",
       "      <td>173D</td>\n",
       "      <td>0</td>\n",
       "      <td>16</td>\n",
       "      <td>NaN</td>\n",
       "      <td>4</td>\n",
       "      <td>0</td>\n",
       "      <td>04:00:00.022473</td>\n",
       "    </tr>\n",
       "    <tr>\n",
       "      <th>3</th>\n",
       "      <td>2020-03-16 04:00:00.023496</td>\n",
       "      <td>258.84</td>\n",
       "      <td>300</td>\n",
       "      <td>3971</td>\n",
       "      <td>252.41</td>\n",
       "      <td>253.2</td>\n",
       "      <td>808731994</td>\n",
       "      <td>E</td>\n",
       "      <td>5</td>\n",
       "      <td>173D</td>\n",
       "      <td>0</td>\n",
       "      <td>16</td>\n",
       "      <td>NaN</td>\n",
       "      <td>4</td>\n",
       "      <td>0</td>\n",
       "      <td>04:00:00.023496</td>\n",
       "    </tr>\n",
       "    <tr>\n",
       "      <th>4</th>\n",
       "      <td>2020-03-16 04:00:00.690195</td>\n",
       "      <td>253.20</td>\n",
       "      <td>10</td>\n",
       "      <td>3981</td>\n",
       "      <td>252.41</td>\n",
       "      <td>253.2</td>\n",
       "      <td>808732012</td>\n",
       "      <td>O</td>\n",
       "      <td>5</td>\n",
       "      <td>873D17</td>\n",
       "      <td>0</td>\n",
       "      <td>16</td>\n",
       "      <td>NaN</td>\n",
       "      <td>4</td>\n",
       "      <td>0</td>\n",
       "      <td>04:00:00.690195</td>\n",
       "    </tr>\n",
       "  </tbody>\n",
       "</table>\n",
       "</div>"
      ],
      "text/plain": [
       "                     datetime   price  volume  sumVolume     bid    ask  \\\n",
       "0  2020-03-16 04:00:00.017723  253.20    2771       2771  252.41  253.2   \n",
       "1  2020-03-16 04:00:00.021236  262.75     300       3071  252.41  253.2   \n",
       "2  2020-03-16 04:00:00.022473  253.20     600       3671  252.41  253.2   \n",
       "3  2020-03-16 04:00:00.023496  258.84     300       3971  252.41  253.2   \n",
       "4  2020-03-16 04:00:00.690195  253.20      10       3981  252.41  253.2   \n",
       "\n",
       "      tickId basis  tradeMarketCenter TradeConditions  TradeAggressor  ecn  \\\n",
       "0  808464454     E                 11            1747               0   16   \n",
       "1  808731993     E                  5            173D               0   16   \n",
       "2  808464455     E                 11            173D               0   16   \n",
       "3  808731994     E                  5            173D               0   16   \n",
       "4  808732012     O                  5          873D17               0   16   \n",
       "\n",
       "   Unnamed: 12  hour  minute             time  \n",
       "0          NaN     4       0  04:00:00.017723  \n",
       "1          NaN     4       0  04:00:00.021236  \n",
       "2          NaN     4       0  04:00:00.022473  \n",
       "3          NaN     4       0  04:00:00.023496  \n",
       "4          NaN     4       0  04:00:00.690195  "
      ]
     },
     "execution_count": 37,
     "metadata": {},
     "output_type": "execute_result"
    }
   ],
   "source": [
    "taps.head()"
   ]
  },
  {
   "cell_type": "code",
   "execution_count": 40,
   "metadata": {},
   "outputs": [
    {
     "data": {
      "text/html": [
       "<div>\n",
       "<style scoped>\n",
       "    .dataframe tbody tr th:only-of-type {\n",
       "        vertical-align: middle;\n",
       "    }\n",
       "\n",
       "    .dataframe tbody tr th {\n",
       "        vertical-align: top;\n",
       "    }\n",
       "\n",
       "    .dataframe thead th {\n",
       "        text-align: right;\n",
       "    }\n",
       "</style>\n",
       "<table border=\"1\" class=\"dataframe\">\n",
       "  <thead>\n",
       "    <tr style=\"text-align: right;\">\n",
       "      <th></th>\n",
       "      <th>price</th>\n",
       "      <th>volume</th>\n",
       "      <th>sumVolume</th>\n",
       "      <th>bid</th>\n",
       "      <th>ask</th>\n",
       "      <th>tickId</th>\n",
       "      <th>basis</th>\n",
       "      <th>tradeMarketCenter</th>\n",
       "      <th>TradeConditions</th>\n",
       "      <th>TradeAggressor</th>\n",
       "      <th>ecn</th>\n",
       "      <th>Unnamed: 12</th>\n",
       "    </tr>\n",
       "    <tr>\n",
       "      <th>datetime</th>\n",
       "      <th></th>\n",
       "      <th></th>\n",
       "      <th></th>\n",
       "      <th></th>\n",
       "      <th></th>\n",
       "      <th></th>\n",
       "      <th></th>\n",
       "      <th></th>\n",
       "      <th></th>\n",
       "      <th></th>\n",
       "      <th></th>\n",
       "      <th></th>\n",
       "    </tr>\n",
       "  </thead>\n",
       "  <tbody>\n",
       "    <tr>\n",
       "      <th>2020-03-16 04:00:00.017723</th>\n",
       "      <td>253.20</td>\n",
       "      <td>2771</td>\n",
       "      <td>2771</td>\n",
       "      <td>252.41</td>\n",
       "      <td>253.2</td>\n",
       "      <td>808464454</td>\n",
       "      <td>E</td>\n",
       "      <td>11</td>\n",
       "      <td>1747</td>\n",
       "      <td>0</td>\n",
       "      <td>16</td>\n",
       "      <td>NaN</td>\n",
       "    </tr>\n",
       "    <tr>\n",
       "      <th>2020-03-16 04:00:00.021236</th>\n",
       "      <td>262.75</td>\n",
       "      <td>300</td>\n",
       "      <td>3071</td>\n",
       "      <td>252.41</td>\n",
       "      <td>253.2</td>\n",
       "      <td>808731993</td>\n",
       "      <td>E</td>\n",
       "      <td>5</td>\n",
       "      <td>173D</td>\n",
       "      <td>0</td>\n",
       "      <td>16</td>\n",
       "      <td>NaN</td>\n",
       "    </tr>\n",
       "    <tr>\n",
       "      <th>2020-03-16 04:00:00.022473</th>\n",
       "      <td>253.20</td>\n",
       "      <td>600</td>\n",
       "      <td>3671</td>\n",
       "      <td>252.41</td>\n",
       "      <td>253.2</td>\n",
       "      <td>808464455</td>\n",
       "      <td>E</td>\n",
       "      <td>11</td>\n",
       "      <td>173D</td>\n",
       "      <td>0</td>\n",
       "      <td>16</td>\n",
       "      <td>NaN</td>\n",
       "    </tr>\n",
       "    <tr>\n",
       "      <th>2020-03-16 04:00:00.023496</th>\n",
       "      <td>258.84</td>\n",
       "      <td>300</td>\n",
       "      <td>3971</td>\n",
       "      <td>252.41</td>\n",
       "      <td>253.2</td>\n",
       "      <td>808731994</td>\n",
       "      <td>E</td>\n",
       "      <td>5</td>\n",
       "      <td>173D</td>\n",
       "      <td>0</td>\n",
       "      <td>16</td>\n",
       "      <td>NaN</td>\n",
       "    </tr>\n",
       "    <tr>\n",
       "      <th>2020-03-16 04:00:00.690195</th>\n",
       "      <td>253.20</td>\n",
       "      <td>10</td>\n",
       "      <td>3981</td>\n",
       "      <td>252.41</td>\n",
       "      <td>253.2</td>\n",
       "      <td>808732012</td>\n",
       "      <td>O</td>\n",
       "      <td>5</td>\n",
       "      <td>873D17</td>\n",
       "      <td>0</td>\n",
       "      <td>16</td>\n",
       "      <td>NaN</td>\n",
       "    </tr>\n",
       "  </tbody>\n",
       "</table>\n",
       "</div>"
      ],
      "text/plain": [
       "                             price  volume  sumVolume     bid    ask  \\\n",
       "datetime                                                               \n",
       "2020-03-16 04:00:00.017723  253.20    2771       2771  252.41  253.2   \n",
       "2020-03-16 04:00:00.021236  262.75     300       3071  252.41  253.2   \n",
       "2020-03-16 04:00:00.022473  253.20     600       3671  252.41  253.2   \n",
       "2020-03-16 04:00:00.023496  258.84     300       3971  252.41  253.2   \n",
       "2020-03-16 04:00:00.690195  253.20      10       3981  252.41  253.2   \n",
       "\n",
       "                               tickId basis  tradeMarketCenter  \\\n",
       "datetime                                                         \n",
       "2020-03-16 04:00:00.017723  808464454     E                 11   \n",
       "2020-03-16 04:00:00.021236  808731993     E                  5   \n",
       "2020-03-16 04:00:00.022473  808464455     E                 11   \n",
       "2020-03-16 04:00:00.023496  808731994     E                  5   \n",
       "2020-03-16 04:00:00.690195  808732012     O                  5   \n",
       "\n",
       "                           TradeConditions  TradeAggressor  ecn  Unnamed: 12  \n",
       "datetime                                                                      \n",
       "2020-03-16 04:00:00.017723            1747               0   16          NaN  \n",
       "2020-03-16 04:00:00.021236            173D               0   16          NaN  \n",
       "2020-03-16 04:00:00.022473            173D               0   16          NaN  \n",
       "2020-03-16 04:00:00.023496            173D               0   16          NaN  \n",
       "2020-03-16 04:00:00.690195          873D17               0   16          NaN  "
      ]
     },
     "execution_count": 40,
     "metadata": {},
     "output_type": "execute_result"
    }
   ],
   "source": [
    "taps2 = pd.read_csv('data.csv', delimiter = ',', index_col=0)\n",
    "taps2.head()"
   ]
  },
  {
   "cell_type": "markdown",
   "metadata": {},
   "source": [
    "### Посмотрим как себя ведёт переменная volume"
   ]
  },
  {
   "cell_type": "code",
   "execution_count": 23,
   "metadata": {
    "scrolled": true
   },
   "outputs": [
    {
     "data": {
      "text/plain": [
       "count    2.147738e+06\n",
       "mean     1.383966e+02\n",
       "std      3.830150e+03\n",
       "min      0.000000e+00\n",
       "25%      1.300000e+01\n",
       "50%      9.100000e+01\n",
       "75%      1.000000e+02\n",
       "max      3.399842e+06\n",
       "Name: volume, dtype: float64"
      ]
     },
     "execution_count": 23,
     "metadata": {},
     "output_type": "execute_result"
    }
   ],
   "source": [
    "taps['volume'].describe()"
   ]
  },
  {
   "cell_type": "code",
   "execution_count": 41,
   "metadata": {
    "scrolled": true
   },
   "outputs": [
    {
     "data": {
      "text/plain": [
       "datetime\n",
       "2020-03-16 04:00:00.017723    2771\n",
       "2020-03-16 04:00:00.021236     300\n",
       "2020-03-16 04:00:00.022473     600\n",
       "2020-03-16 04:00:00.023496     300\n",
       "2020-03-16 04:00:00.690195      10\n",
       "Name: volume, dtype: int64"
      ]
     },
     "execution_count": 41,
     "metadata": {},
     "output_type": "execute_result"
    }
   ],
   "source": [
    "volume2 = taps2.volume\n",
    "volume2.head()"
   ]
  },
  {
   "cell_type": "code",
   "execution_count": 43,
   "metadata": {},
   "outputs": [
    {
     "data": {
      "text/plain": [
       "<matplotlib.axes._subplots.AxesSubplot at 0x1dfecc1e080>"
      ]
     },
     "execution_count": 43,
     "metadata": {},
     "output_type": "execute_result"
    },
    {
     "data": {
      "image/png": "[encoded data removed]",
      "text/plain": [
       "<Figure size 1080x1080 with 1 Axes>"
      ]
     },
     "metadata": {
      "needs_background": "light"
     },
     "output_type": "display_data"
    }
   ],
   "source": [
    "volume2.plot(figsize=(15, 15))"
   ]
  },
  {
   "cell_type": "markdown",
   "metadata": {},
   "source": [
    "### С графика видно, что значения расбросаны, и под конец дня происходит большой скачок данных. Кроме того, на протяжении всего дня также происходят выбросы и значения \"скачут\""
   ]
  },
  {
   "cell_type": "markdown",
   "metadata": {},
   "source": [
    "### Посмотрим как себя ведёт переменная price"
   ]
  },
  {
   "cell_type": "code",
   "execution_count": 52,
   "metadata": {},
   "outputs": [
    {
     "data": {
      "text/plain": [
       "count    2.147738e+06\n",
       "mean     2.476152e+02\n",
       "std      4.095209e+00\n",
       "min      2.373600e+02\n",
       "25%      2.449900e+02\n",
       "50%      2.476100e+02\n",
       "75%      2.506900e+02\n",
       "max      2.788800e+02\n",
       "Name: price, dtype: float64"
      ]
     },
     "execution_count": 52,
     "metadata": {},
     "output_type": "execute_result"
    }
   ],
   "source": [
    "taps['price'].describe()"
   ]
  },
  {
   "cell_type": "code",
   "execution_count": 45,
   "metadata": {
    "scrolled": true
   },
   "outputs": [
    {
     "data": {
      "text/plain": [
       "datetime\n",
       "2020-03-16 04:00:00.017723    253.20\n",
       "2020-03-16 04:00:00.021236    262.75\n",
       "2020-03-16 04:00:00.022473    253.20\n",
       "2020-03-16 04:00:00.023496    258.84\n",
       "2020-03-16 04:00:00.690195    253.20\n",
       "Name: price, dtype: float64"
      ]
     },
     "execution_count": 45,
     "metadata": {},
     "output_type": "execute_result"
    }
   ],
   "source": [
    "price = taps2.price\n",
    "price.head()"
   ]
  },
  {
   "cell_type": "code",
   "execution_count": 48,
   "metadata": {},
   "outputs": [
    {
     "data": {
      "text/plain": [
       "<matplotlib.axes._subplots.AxesSubplot at 0x1dfecd1bcc0>"
      ]
     },
     "execution_count": 48,
     "metadata": {},
     "output_type": "execute_result"
    },
    {
     "data": {
      "image/png": "[encoded data removed]",
      "text/plain": [
       "<Figure size 720x720 with 1 Axes>"
      ]
     },
     "metadata": {
      "needs_background": "light"
     },
     "output_type": "display_data"
    }
   ],
   "source": [
    "price.plot(figsize=(10, 10))"
   ]
  },
  {
   "cell_type": "code",
   "execution_count": 47,
   "metadata": {
    "scrolled": true
   },
   "outputs": [
    {
     "data": {
      "image/png": "[encoded data removed]",
      "text/plain": [
       "<Figure size 432x288 with 1 Axes>"
      ]
     },
     "metadata": {
      "needs_background": "light"
     },
     "output_type": "display_data"
    }
   ],
   "source": [
    "taps['price'].plot(kind='box')\n",
    "plt.show()"
   ]
  },
  {
   "cell_type": "markdown",
   "metadata": {},
   "source": [
    "### Видно, что на протяжении дня, есть аномальные расбросы "
   ]
  },
  {
   "cell_type": "markdown",
   "metadata": {},
   "source": [
    "### Посмотрим зависимость между количеством shares и часами дня,чтобы выяснить, в котором часу произошёл самый большой выброс"
   ]
  },
  {
   "cell_type": "code",
   "execution_count": 44,
   "metadata": {
    "scrolled": false
   },
   "outputs": [
    {
     "data": {
      "text/plain": [
       "<matplotlib.axes._subplots.AxesSubplot at 0x1dfecc86358>"
      ]
     },
     "execution_count": 44,
     "metadata": {},
     "output_type": "execute_result"
    },
    {
     "data": {
      "image/png": "[encoded data removed]",
      "text/plain": [
       "<Figure size 432x288 with 1 Axes>"
      ]
     },
     "metadata": {
      "needs_background": "light"
     },
     "output_type": "display_data"
    }
   ],
   "source": [
    "taps.plot(kind = 'scatter', x = ['hour'], y = ['volume'])"
   ]
  },
  {
   "cell_type": "code",
   "execution_count": 49,
   "metadata": {},
   "outputs": [
    {
     "data": {
      "text/plain": [
       "<matplotlib.axes._subplots.AxesSubplot at 0x1dfecd7e7f0>"
      ]
     },
     "execution_count": 49,
     "metadata": {},
     "output_type": "execute_result"
    },
    {
     "data": {
      "image/png": "[encoded data removed]",
      "text/plain": [
       "<Figure size 432x288 with 1 Axes>"
      ]
     },
     "metadata": {
      "needs_background": "light"
     },
     "output_type": "display_data"
    }
   ],
   "source": [
    "taps.plot(kind = 'scatter', x = ['hour'], y = ['price'])"
   ]
  },
  {
   "cell_type": "markdown",
   "metadata": {},
   "source": [
    "### Посмотрим на корреляцию между всеми переменными"
   ]
  },
  {
   "cell_type": "code",
   "execution_count": 50,
   "metadata": {
    "scrolled": false
   },
   "outputs": [
    {
     "name": "stderr",
     "output_type": "stream",
     "text": [
      "C:\\Users\\Dasha\\AppData\\Roaming\\Python\\Python37\\site-packages\\pandas\\io\\formats\\style.py:1264: RuntimeWarning:\n",
      "\n",
      "All-NaN slice encountered\n",
      "\n",
      "C:\\Users\\Dasha\\AppData\\Roaming\\Python\\Python37\\site-packages\\pandas\\io\\formats\\style.py:1265: RuntimeWarning:\n",
      "\n",
      "All-NaN slice encountered\n",
      "\n"
     ]
    },
    {
     "data": {
      "text/html": [
       "<style  type=\"text/css\" >\n",
       "#T_d9299_row0_col0,#T_d9299_row0_col3,#T_d9299_row0_col4,#T_d9299_row1_col1,#T_d9299_row2_col2,#T_d9299_row3_col0,#T_d9299_row3_col3,#T_d9299_row3_col4,#T_d9299_row4_col0,#T_d9299_row4_col3,#T_d9299_row4_col4,#T_d9299_row5_col5,#T_d9299_row6_col6,#T_d9299_row10_col10,#T_d9299_row11_col11{\n",
       "            background-color:  #b40426;\n",
       "            color:  #f1f1f1;\n",
       "        }#T_d9299_row0_col1,#T_d9299_row5_col1{\n",
       "            background-color:  #3f53c6;\n",
       "            color:  #f1f1f1;\n",
       "        }#T_d9299_row0_col2,#T_d9299_row0_col7,#T_d9299_row0_col8,#T_d9299_row0_col9,#T_d9299_row0_col10,#T_d9299_row0_col11,#T_d9299_row1_col6,#T_d9299_row1_col7,#T_d9299_row1_col8,#T_d9299_row1_col9,#T_d9299_row2_col0,#T_d9299_row2_col3,#T_d9299_row2_col4,#T_d9299_row2_col7,#T_d9299_row2_col8,#T_d9299_row2_col9,#T_d9299_row3_col1,#T_d9299_row3_col2,#T_d9299_row3_col7,#T_d9299_row3_col8,#T_d9299_row3_col9,#T_d9299_row3_col10,#T_d9299_row3_col11,#T_d9299_row4_col1,#T_d9299_row4_col2,#T_d9299_row4_col7,#T_d9299_row4_col8,#T_d9299_row4_col9,#T_d9299_row4_col10,#T_d9299_row4_col11,#T_d9299_row5_col7,#T_d9299_row5_col8,#T_d9299_row5_col9,#T_d9299_row6_col7,#T_d9299_row6_col8,#T_d9299_row6_col9,#T_d9299_row7_col0,#T_d9299_row7_col1,#T_d9299_row7_col2,#T_d9299_row7_col3,#T_d9299_row7_col4,#T_d9299_row7_col5,#T_d9299_row7_col6,#T_d9299_row7_col7,#T_d9299_row7_col8,#T_d9299_row7_col9,#T_d9299_row7_col10,#T_d9299_row7_col11,#T_d9299_row8_col0,#T_d9299_row8_col1,#T_d9299_row8_col2,#T_d9299_row8_col3,#T_d9299_row8_col4,#T_d9299_row8_col5,#T_d9299_row8_col6,#T_d9299_row8_col7,#T_d9299_row8_col8,#T_d9299_row8_col9,#T_d9299_row8_col10,#T_d9299_row8_col11,#T_d9299_row9_col0,#T_d9299_row9_col1,#T_d9299_row9_col2,#T_d9299_row9_col3,#T_d9299_row9_col4,#T_d9299_row9_col5,#T_d9299_row9_col6,#T_d9299_row9_col7,#T_d9299_row9_col8,#T_d9299_row9_col9,#T_d9299_row9_col10,#T_d9299_row9_col11,#T_d9299_row10_col7,#T_d9299_row10_col8,#T_d9299_row10_col9,#T_d9299_row11_col5,#T_d9299_row11_col7,#T_d9299_row11_col8,#T_d9299_row11_col9{\n",
       "            background-color:  #3b4cc0;\n",
       "            color:  #f1f1f1;\n",
       "        }#T_d9299_row0_col5,#T_d9299_row0_col6,#T_d9299_row3_col5,#T_d9299_row3_col6,#T_d9299_row4_col5,#T_d9299_row4_col6,#T_d9299_row10_col0,#T_d9299_row10_col3,#T_d9299_row10_col4{\n",
       "            background-color:  #4358cb;\n",
       "            color:  #f1f1f1;\n",
       "        }#T_d9299_row1_col0{\n",
       "            background-color:  #8caffe;\n",
       "            color:  #000000;\n",
       "        }#T_d9299_row1_col2,#T_d9299_row6_col2{\n",
       "            background-color:  #8badfd;\n",
       "            color:  #000000;\n",
       "        }#T_d9299_row1_col3{\n",
       "            background-color:  #86a9fc;\n",
       "            color:  #000000;\n",
       "        }#T_d9299_row1_col4{\n",
       "            background-color:  #88abfd;\n",
       "            color:  #000000;\n",
       "        }#T_d9299_row1_col5{\n",
       "            background-color:  #4055c8;\n",
       "            color:  #f1f1f1;\n",
       "        }#T_d9299_row1_col10{\n",
       "            background-color:  #82a6fb;\n",
       "            color:  #000000;\n",
       "        }#T_d9299_row1_col11{\n",
       "            background-color:  #7a9df8;\n",
       "            color:  #000000;\n",
       "        }#T_d9299_row2_col1,#T_d9299_row10_col1,#T_d9299_row11_col6{\n",
       "            background-color:  #3e51c5;\n",
       "            color:  #f1f1f1;\n",
       "        }#T_d9299_row2_col5{\n",
       "            background-color:  #799cf8;\n",
       "            color:  #000000;\n",
       "        }#T_d9299_row2_col6,#T_d9299_row10_col6,#T_d9299_row11_col1{\n",
       "            background-color:  #3d50c3;\n",
       "            color:  #f1f1f1;\n",
       "        }#T_d9299_row2_col10,#T_d9299_row10_col2{\n",
       "            background-color:  #bb1b2c;\n",
       "            color:  #f1f1f1;\n",
       "        }#T_d9299_row2_col11{\n",
       "            background-color:  #a9c6fd;\n",
       "            color:  #000000;\n",
       "        }#T_d9299_row5_col0,#T_d9299_row5_col4{\n",
       "            background-color:  #8fb1fe;\n",
       "            color:  #000000;\n",
       "        }#T_d9299_row5_col2{\n",
       "            background-color:  #bad0f8;\n",
       "            color:  #000000;\n",
       "        }#T_d9299_row5_col3{\n",
       "            background-color:  #8db0fe;\n",
       "            color:  #000000;\n",
       "        }#T_d9299_row5_col6{\n",
       "            background-color:  #5572df;\n",
       "            color:  #000000;\n",
       "        }#T_d9299_row5_col10,#T_d9299_row11_col2{\n",
       "            background-color:  #b5cdfa;\n",
       "            color:  #000000;\n",
       "        }#T_d9299_row5_col11{\n",
       "            background-color:  #779af7;\n",
       "            color:  #000000;\n",
       "        }#T_d9299_row6_col0,#T_d9299_row6_col3,#T_d9299_row6_col4{\n",
       "            background-color:  #90b2fe;\n",
       "            color:  #000000;\n",
       "        }#T_d9299_row6_col1{\n",
       "            background-color:  #3c4ec2;\n",
       "            color:  #f1f1f1;\n",
       "        }#T_d9299_row6_col5{\n",
       "            background-color:  #5977e3;\n",
       "            color:  #000000;\n",
       "        }#T_d9299_row6_col10,#T_d9299_row11_col10{\n",
       "            background-color:  #84a7fc;\n",
       "            color:  #000000;\n",
       "        }#T_d9299_row6_col11,#T_d9299_row10_col11{\n",
       "            background-color:  #7da0f9;\n",
       "            color:  #000000;\n",
       "        }#T_d9299_row10_col5{\n",
       "            background-color:  #7b9ff9;\n",
       "            color:  #000000;\n",
       "        }#T_d9299_row11_col0,#T_d9299_row11_col3,#T_d9299_row11_col4{\n",
       "            background-color:  #4a63d3;\n",
       "            color:  #f1f1f1;\n",
       "        }</style><table id=\"T_d9299_\" ><thead>    <tr>        <th class=\"blank level0\" ></th>        <th class=\"col_heading level0 col0\" >price</th>        <th class=\"col_heading level0 col1\" >volume</th>        <th class=\"col_heading level0 col2\" >sumVolume</th>        <th class=\"col_heading level0 col3\" >bid</th>        <th class=\"col_heading level0 col4\" >ask</th>        <th class=\"col_heading level0 col5\" >tickId</th>        <th class=\"col_heading level0 col6\" >tradeMarketCenter</th>        <th class=\"col_heading level0 col7\" >TradeAggressor</th>        <th class=\"col_heading level0 col8\" >ecn</th>        <th class=\"col_heading level0 col9\" >Unnamed: 12</th>        <th class=\"col_heading level0 col10\" >hour</th>        <th class=\"col_heading level0 col11\" >minute</th>    </tr></thead><tbody>\n",
       "                <tr>\n",
       "                        <th id=\"T_d9299_level0_row0\" class=\"row_heading level0 row0\" >price</th>\n",
       "                        <td id=\"T_d9299_row0_col0\" class=\"data row0 col0\" >1.00</td>\n",
       "                        <td id=\"T_d9299_row0_col1\" class=\"data row0 col1\" >0.01</td>\n",
       "                        <td id=\"T_d9299_row0_col2\" class=\"data row0 col2\" >-0.32</td>\n",
       "                        <td id=\"T_d9299_row0_col3\" class=\"data row0 col3\" >1.00</td>\n",
       "                        <td id=\"T_d9299_row0_col4\" class=\"data row0 col4\" >1.00</td>\n",
       "                        <td id=\"T_d9299_row0_col5\" class=\"data row0 col5\" >0.02</td>\n",
       "                        <td id=\"T_d9299_row0_col6\" class=\"data row0 col6\" >0.03</td>\n",
       "                        <td id=\"T_d9299_row0_col7\" class=\"data row0 col7\" >nan</td>\n",
       "                        <td id=\"T_d9299_row0_col8\" class=\"data row0 col8\" >nan</td>\n",
       "                        <td id=\"T_d9299_row0_col9\" class=\"data row0 col9\" >nan</td>\n",
       "                        <td id=\"T_d9299_row0_col10\" class=\"data row0 col10\" >-0.28</td>\n",
       "                        <td id=\"T_d9299_row0_col11\" class=\"data row0 col11\" >-0.25</td>\n",
       "            </tr>\n",
       "            <tr>\n",
       "                        <th id=\"T_d9299_level0_row1\" class=\"row_heading level0 row1\" >volume</th>\n",
       "                        <td id=\"T_d9299_row1_col0\" class=\"data row1 col0\" >0.01</td>\n",
       "                        <td id=\"T_d9299_row1_col1\" class=\"data row1 col1\" >1.00</td>\n",
       "                        <td id=\"T_d9299_row1_col2\" class=\"data row1 col2\" >0.01</td>\n",
       "                        <td id=\"T_d9299_row1_col3\" class=\"data row1 col3\" >-0.01</td>\n",
       "                        <td id=\"T_d9299_row1_col4\" class=\"data row1 col4\" >-0.01</td>\n",
       "                        <td id=\"T_d9299_row1_col5\" class=\"data row1 col5\" >0.01</td>\n",
       "                        <td id=\"T_d9299_row1_col6\" class=\"data row1 col6\" >-0.00</td>\n",
       "                        <td id=\"T_d9299_row1_col7\" class=\"data row1 col7\" >nan</td>\n",
       "                        <td id=\"T_d9299_row1_col8\" class=\"data row1 col8\" >nan</td>\n",
       "                        <td id=\"T_d9299_row1_col9\" class=\"data row1 col9\" >nan</td>\n",
       "                        <td id=\"T_d9299_row1_col10\" class=\"data row1 col10\" >0.00</td>\n",
       "                        <td id=\"T_d9299_row1_col11\" class=\"data row1 col11\" >0.00</td>\n",
       "            </tr>\n",
       "            <tr>\n",
       "                        <th id=\"T_d9299_level0_row2\" class=\"row_heading level0 row2\" >sumVolume</th>\n",
       "                        <td id=\"T_d9299_row2_col0\" class=\"data row2 col0\" >-0.32</td>\n",
       "                        <td id=\"T_d9299_row2_col1\" class=\"data row2 col1\" >0.01</td>\n",
       "                        <td id=\"T_d9299_row2_col2\" class=\"data row2 col2\" >1.00</td>\n",
       "                        <td id=\"T_d9299_row2_col3\" class=\"data row2 col3\" >-0.31</td>\n",
       "                        <td id=\"T_d9299_row2_col4\" class=\"data row2 col4\" >-0.32</td>\n",
       "                        <td id=\"T_d9299_row2_col5\" class=\"data row2 col5\" >0.18</td>\n",
       "                        <td id=\"T_d9299_row2_col6\" class=\"data row2 col6\" >0.01</td>\n",
       "                        <td id=\"T_d9299_row2_col7\" class=\"data row2 col7\" >nan</td>\n",
       "                        <td id=\"T_d9299_row2_col8\" class=\"data row2 col8\" >nan</td>\n",
       "                        <td id=\"T_d9299_row2_col9\" class=\"data row2 col9\" >nan</td>\n",
       "                        <td id=\"T_d9299_row2_col10\" class=\"data row2 col10\" >0.97</td>\n",
       "                        <td id=\"T_d9299_row2_col11\" class=\"data row2 col11\" >0.16</td>\n",
       "            </tr>\n",
       "            <tr>\n",
       "                        <th id=\"T_d9299_level0_row3\" class=\"row_heading level0 row3\" >bid</th>\n",
       "                        <td id=\"T_d9299_row3_col0\" class=\"data row3 col0\" >1.00</td>\n",
       "                        <td id=\"T_d9299_row3_col1\" class=\"data row3 col1\" >-0.01</td>\n",
       "                        <td id=\"T_d9299_row3_col2\" class=\"data row3 col2\" >-0.31</td>\n",
       "                        <td id=\"T_d9299_row3_col3\" class=\"data row3 col3\" >1.00</td>\n",
       "                        <td id=\"T_d9299_row3_col4\" class=\"data row3 col4\" >1.00</td>\n",
       "                        <td id=\"T_d9299_row3_col5\" class=\"data row3 col5\" >0.02</td>\n",
       "                        <td id=\"T_d9299_row3_col6\" class=\"data row3 col6\" >0.03</td>\n",
       "                        <td id=\"T_d9299_row3_col7\" class=\"data row3 col7\" >nan</td>\n",
       "                        <td id=\"T_d9299_row3_col8\" class=\"data row3 col8\" >nan</td>\n",
       "                        <td id=\"T_d9299_row3_col9\" class=\"data row3 col9\" >nan</td>\n",
       "                        <td id=\"T_d9299_row3_col10\" class=\"data row3 col10\" >-0.27</td>\n",
       "                        <td id=\"T_d9299_row3_col11\" class=\"data row3 col11\" >-0.25</td>\n",
       "            </tr>\n",
       "            <tr>\n",
       "                        <th id=\"T_d9299_level0_row4\" class=\"row_heading level0 row4\" >ask</th>\n",
       "                        <td id=\"T_d9299_row4_col0\" class=\"data row4 col0\" >1.00</td>\n",
       "                        <td id=\"T_d9299_row4_col1\" class=\"data row4 col1\" >-0.01</td>\n",
       "                        <td id=\"T_d9299_row4_col2\" class=\"data row4 col2\" >-0.32</td>\n",
       "                        <td id=\"T_d9299_row4_col3\" class=\"data row4 col3\" >1.00</td>\n",
       "                        <td id=\"T_d9299_row4_col4\" class=\"data row4 col4\" >1.00</td>\n",
       "                        <td id=\"T_d9299_row4_col5\" class=\"data row4 col5\" >0.02</td>\n",
       "                        <td id=\"T_d9299_row4_col6\" class=\"data row4 col6\" >0.03</td>\n",
       "                        <td id=\"T_d9299_row4_col7\" class=\"data row4 col7\" >nan</td>\n",
       "                        <td id=\"T_d9299_row4_col8\" class=\"data row4 col8\" >nan</td>\n",
       "                        <td id=\"T_d9299_row4_col9\" class=\"data row4 col9\" >nan</td>\n",
       "                        <td id=\"T_d9299_row4_col10\" class=\"data row4 col10\" >-0.28</td>\n",
       "                        <td id=\"T_d9299_row4_col11\" class=\"data row4 col11\" >-0.25</td>\n",
       "            </tr>\n",
       "            <tr>\n",
       "                        <th id=\"T_d9299_level0_row5\" class=\"row_heading level0 row5\" >tickId</th>\n",
       "                        <td id=\"T_d9299_row5_col0\" class=\"data row5 col0\" >0.02</td>\n",
       "                        <td id=\"T_d9299_row5_col1\" class=\"data row5 col1\" >0.01</td>\n",
       "                        <td id=\"T_d9299_row5_col2\" class=\"data row5 col2\" >0.18</td>\n",
       "                        <td id=\"T_d9299_row5_col3\" class=\"data row5 col3\" >0.02</td>\n",
       "                        <td id=\"T_d9299_row5_col4\" class=\"data row5 col4\" >0.02</td>\n",
       "                        <td id=\"T_d9299_row5_col5\" class=\"data row5 col5\" >1.00</td>\n",
       "                        <td id=\"T_d9299_row5_col6\" class=\"data row5 col6\" >0.09</td>\n",
       "                        <td id=\"T_d9299_row5_col7\" class=\"data row5 col7\" >nan</td>\n",
       "                        <td id=\"T_d9299_row5_col8\" class=\"data row5 col8\" >nan</td>\n",
       "                        <td id=\"T_d9299_row5_col9\" class=\"data row5 col9\" >nan</td>\n",
       "                        <td id=\"T_d9299_row5_col10\" class=\"data row5 col10\" >0.19</td>\n",
       "                        <td id=\"T_d9299_row5_col11\" class=\"data row5 col11\" >-0.01</td>\n",
       "            </tr>\n",
       "            <tr>\n",
       "                        <th id=\"T_d9299_level0_row6\" class=\"row_heading level0 row6\" >tradeMarketCenter</th>\n",
       "                        <td id=\"T_d9299_row6_col0\" class=\"data row6 col0\" >0.03</td>\n",
       "                        <td id=\"T_d9299_row6_col1\" class=\"data row6 col1\" >-0.00</td>\n",
       "                        <td id=\"T_d9299_row6_col2\" class=\"data row6 col2\" >0.01</td>\n",
       "                        <td id=\"T_d9299_row6_col3\" class=\"data row6 col3\" >0.03</td>\n",
       "                        <td id=\"T_d9299_row6_col4\" class=\"data row6 col4\" >0.03</td>\n",
       "                        <td id=\"T_d9299_row6_col5\" class=\"data row6 col5\" >0.09</td>\n",
       "                        <td id=\"T_d9299_row6_col6\" class=\"data row6 col6\" >1.00</td>\n",
       "                        <td id=\"T_d9299_row6_col7\" class=\"data row6 col7\" >nan</td>\n",
       "                        <td id=\"T_d9299_row6_col8\" class=\"data row6 col8\" >nan</td>\n",
       "                        <td id=\"T_d9299_row6_col9\" class=\"data row6 col9\" >nan</td>\n",
       "                        <td id=\"T_d9299_row6_col10\" class=\"data row6 col10\" >0.01</td>\n",
       "                        <td id=\"T_d9299_row6_col11\" class=\"data row6 col11\" >0.01</td>\n",
       "            </tr>\n",
       "            <tr>\n",
       "                        <th id=\"T_d9299_level0_row7\" class=\"row_heading level0 row7\" >TradeAggressor</th>\n",
       "                        <td id=\"T_d9299_row7_col0\" class=\"data row7 col0\" >nan</td>\n",
       "                        <td id=\"T_d9299_row7_col1\" class=\"data row7 col1\" >nan</td>\n",
       "                        <td id=\"T_d9299_row7_col2\" class=\"data row7 col2\" >nan</td>\n",
       "                        <td id=\"T_d9299_row7_col3\" class=\"data row7 col3\" >nan</td>\n",
       "                        <td id=\"T_d9299_row7_col4\" class=\"data row7 col4\" >nan</td>\n",
       "                        <td id=\"T_d9299_row7_col5\" class=\"data row7 col5\" >nan</td>\n",
       "                        <td id=\"T_d9299_row7_col6\" class=\"data row7 col6\" >nan</td>\n",
       "                        <td id=\"T_d9299_row7_col7\" class=\"data row7 col7\" >nan</td>\n",
       "                        <td id=\"T_d9299_row7_col8\" class=\"data row7 col8\" >nan</td>\n",
       "                        <td id=\"T_d9299_row7_col9\" class=\"data row7 col9\" >nan</td>\n",
       "                        <td id=\"T_d9299_row7_col10\" class=\"data row7 col10\" >nan</td>\n",
       "                        <td id=\"T_d9299_row7_col11\" class=\"data row7 col11\" >nan</td>\n",
       "            </tr>\n",
       "            <tr>\n",
       "                        <th id=\"T_d9299_level0_row8\" class=\"row_heading level0 row8\" >ecn</th>\n",
       "                        <td id=\"T_d9299_row8_col0\" class=\"data row8 col0\" >nan</td>\n",
       "                        <td id=\"T_d9299_row8_col1\" class=\"data row8 col1\" >nan</td>\n",
       "                        <td id=\"T_d9299_row8_col2\" class=\"data row8 col2\" >nan</td>\n",
       "                        <td id=\"T_d9299_row8_col3\" class=\"data row8 col3\" >nan</td>\n",
       "                        <td id=\"T_d9299_row8_col4\" class=\"data row8 col4\" >nan</td>\n",
       "                        <td id=\"T_d9299_row8_col5\" class=\"data row8 col5\" >nan</td>\n",
       "                        <td id=\"T_d9299_row8_col6\" class=\"data row8 col6\" >nan</td>\n",
       "                        <td id=\"T_d9299_row8_col7\" class=\"data row8 col7\" >nan</td>\n",
       "                        <td id=\"T_d9299_row8_col8\" class=\"data row8 col8\" >nan</td>\n",
       "                        <td id=\"T_d9299_row8_col9\" class=\"data row8 col9\" >nan</td>\n",
       "                        <td id=\"T_d9299_row8_col10\" class=\"data row8 col10\" >nan</td>\n",
       "                        <td id=\"T_d9299_row8_col11\" class=\"data row8 col11\" >nan</td>\n",
       "            </tr>\n",
       "            <tr>\n",
       "                        <th id=\"T_d9299_level0_row9\" class=\"row_heading level0 row9\" >Unnamed: 12</th>\n",
       "                        <td id=\"T_d9299_row9_col0\" class=\"data row9 col0\" >nan</td>\n",
       "                        <td id=\"T_d9299_row9_col1\" class=\"data row9 col1\" >nan</td>\n",
       "                        <td id=\"T_d9299_row9_col2\" class=\"data row9 col2\" >nan</td>\n",
       "                        <td id=\"T_d9299_row9_col3\" class=\"data row9 col3\" >nan</td>\n",
       "                        <td id=\"T_d9299_row9_col4\" class=\"data row9 col4\" >nan</td>\n",
       "                        <td id=\"T_d9299_row9_col5\" class=\"data row9 col5\" >nan</td>\n",
       "                        <td id=\"T_d9299_row9_col6\" class=\"data row9 col6\" >nan</td>\n",
       "                        <td id=\"T_d9299_row9_col7\" class=\"data row9 col7\" >nan</td>\n",
       "                        <td id=\"T_d9299_row9_col8\" class=\"data row9 col8\" >nan</td>\n",
       "                        <td id=\"T_d9299_row9_col9\" class=\"data row9 col9\" >nan</td>\n",
       "                        <td id=\"T_d9299_row9_col10\" class=\"data row9 col10\" >nan</td>\n",
       "                        <td id=\"T_d9299_row9_col11\" class=\"data row9 col11\" >nan</td>\n",
       "            </tr>\n",
       "            <tr>\n",
       "                        <th id=\"T_d9299_level0_row10\" class=\"row_heading level0 row10\" >hour</th>\n",
       "                        <td id=\"T_d9299_row10_col0\" class=\"data row10 col0\" >-0.28</td>\n",
       "                        <td id=\"T_d9299_row10_col1\" class=\"data row10 col1\" >0.00</td>\n",
       "                        <td id=\"T_d9299_row10_col2\" class=\"data row10 col2\" >0.97</td>\n",
       "                        <td id=\"T_d9299_row10_col3\" class=\"data row10 col3\" >-0.27</td>\n",
       "                        <td id=\"T_d9299_row10_col4\" class=\"data row10 col4\" >-0.28</td>\n",
       "                        <td id=\"T_d9299_row10_col5\" class=\"data row10 col5\" >0.19</td>\n",
       "                        <td id=\"T_d9299_row10_col6\" class=\"data row10 col6\" >0.01</td>\n",
       "                        <td id=\"T_d9299_row10_col7\" class=\"data row10 col7\" >nan</td>\n",
       "                        <td id=\"T_d9299_row10_col8\" class=\"data row10 col8\" >nan</td>\n",
       "                        <td id=\"T_d9299_row10_col9\" class=\"data row10 col9\" >nan</td>\n",
       "                        <td id=\"T_d9299_row10_col10\" class=\"data row10 col10\" >1.00</td>\n",
       "                        <td id=\"T_d9299_row10_col11\" class=\"data row10 col11\" >0.01</td>\n",
       "            </tr>\n",
       "            <tr>\n",
       "                        <th id=\"T_d9299_level0_row11\" class=\"row_heading level0 row11\" >minute</th>\n",
       "                        <td id=\"T_d9299_row11_col0\" class=\"data row11 col0\" >-0.25</td>\n",
       "                        <td id=\"T_d9299_row11_col1\" class=\"data row11 col1\" >0.00</td>\n",
       "                        <td id=\"T_d9299_row11_col2\" class=\"data row11 col2\" >0.16</td>\n",
       "                        <td id=\"T_d9299_row11_col3\" class=\"data row11 col3\" >-0.25</td>\n",
       "                        <td id=\"T_d9299_row11_col4\" class=\"data row11 col4\" >-0.25</td>\n",
       "                        <td id=\"T_d9299_row11_col5\" class=\"data row11 col5\" >-0.01</td>\n",
       "                        <td id=\"T_d9299_row11_col6\" class=\"data row11 col6\" >0.01</td>\n",
       "                        <td id=\"T_d9299_row11_col7\" class=\"data row11 col7\" >nan</td>\n",
       "                        <td id=\"T_d9299_row11_col8\" class=\"data row11 col8\" >nan</td>\n",
       "                        <td id=\"T_d9299_row11_col9\" class=\"data row11 col9\" >nan</td>\n",
       "                        <td id=\"T_d9299_row11_col10\" class=\"data row11 col10\" >0.01</td>\n",
       "                        <td id=\"T_d9299_row11_col11\" class=\"data row11 col11\" >1.00</td>\n",
       "            </tr>\n",
       "    </tbody></table>"
      ],
      "text/plain": [
       "<pandas.io.formats.style.Styler at 0x1dffeaa6160>"
      ]
     },
     "execution_count": 50,
     "metadata": {},
     "output_type": "execute_result"
    }
   ],
   "source": [
    "corr = taps.corr()\n",
    "corr.style.background_gradient(cmap = 'coolwarm').set_precision(2)"
   ]
  },
  {
   "cell_type": "markdown",
   "metadata": {},
   "source": [
    "### Проверим зависимость цены от показателей ask,bid"
   ]
  },
  {
   "cell_type": "code",
   "execution_count": 32,
   "metadata": {},
   "outputs": [
    {
     "data": {
      "text/plain": [
       "array([<matplotlib.axes._subplots.AxesSubplot object at 0x000001DFB95305F8>,\n",
       "       <matplotlib.axes._subplots.AxesSubplot object at 0x000001DFB477B4A8>,\n",
       "       <matplotlib.axes._subplots.AxesSubplot object at 0x000001DFAD62F748>],\n",
       "      dtype=object)"
      ]
     },
     "execution_count": 32,
     "metadata": {},
     "output_type": "execute_result"
    },
    {
     "data": {
      "image/png": "[encoded data removed]",
      "text/plain": [
       "<Figure size 1080x1080 with 3 Axes>"
      ]
     },
     "metadata": {
      "needs_background": "light"
     },
     "output_type": "display_data"
    }
   ],
   "source": [
    "taps.plot(x='hour', y=['price','ask', 'bid'], subplots=True, figsize=(15, 15))"
   ]
  }
 ],
 "metadata": {
  "kernelspec": {
   "display_name": "Python 3",
   "language": "python",
   "name": "python3"
  },
  "language_info": {
   "codemirror_mode": {
    "name": "ipython",
    "version": 3
   },
   "file_extension": ".py",
   "mimetype": "text/x-python",
   "name": "python",
   "nbconvert_exporter": "python",
   "pygments_lexer": "ipython3",
   "version": "3.7.3"
  }
 },
 "nbformat": 4,
 "nbformat_minor": 2
}
